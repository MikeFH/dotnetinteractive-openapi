{
 "cells": [
  {
   "cell_type": "code",
   "execution_count": null,
   "metadata": {
    "dotnet_interactive": {
     "language": "csharp"
    }
   },
   "outputs": [],
   "source": [
    "#r \"nuget:MfhSoft.DotNet.Interactive.OpenApi,*-*\""
   ]
  },
  {
   "cell_type": "code",
   "execution_count": null,
   "metadata": {
    "dotnet_interactive": {
     "language": "csharp"
    }
   },
   "outputs": [
    {
     "data": {
      "text/html": [
       "<details><summary>Client generated for https://petstore.swagger.io/v2/swagger.json</summary><p>You can intialize the client as shown below<br /><code>var client = new OpenApiClient();</code><br />or using an already existing <code>HttpClient</code><br /><code>var httpClient = new HttpClient();<br />var client = new OpenApiClient(httpClient);</code></p></details>"
      ]
     },
     "output_type": "unknown"
    }
   ],
   "source": [
    "#!openapi-client \"https://petstore.swagger.io/v2/swagger.json\" --enable-tracing"
   ]
  },
  {
   "cell_type": "code",
   "execution_count": null,
   "metadata": {
    "dotnet_interactive": {
     "language": "csharp"
    }
   },
   "outputs": [
    {
     "data": {
      "text/html": [
       "<div class=\"http-response-message-container\"><style type=\"text/css\">\r\n",
       "            .http-response-message-container {\r\n",
       "                display: flex;\r\n",
       "                flex-wrap: wrap;\r\n",
       "            }\r\n",
       "\r\n",
       "            .http-response-message-container > div {\r\n",
       "                margin: .5em;\r\n",
       "                padding: 1em;\r\n",
       "                border: 1px solid;\r\n",
       "            }\r\n",
       "\r\n",
       "            .http-response-message-container > div > h2 {\r\n",
       "                margin-top: 0;\r\n",
       "            }\r\n",
       "\r\n",
       "            .http-response-message-container > div > h3 {\r\n",
       "                margin-bottom: 0;\r\n",
       "            }\r\n",
       "\r\n",
       "            .aspnet-logs-container {\r\n",
       "                margin: 0 .5em;\r\n",
       "            }\r\n",
       "\r\n",
       "            .http-response-message-container summary, .aspnet-logs-container summary {\r\n",
       "                margin: 1em 0;\r\n",
       "                font-size: 1.17em;\r\n",
       "                font-weight: 700;\r\n",
       "            }</style><div><h2>Request</h2><hr></hr><h3>GET <a href=\"https://petstore.swagger.io/v2/store/inventory\">https://petstore.swagger.io/v2/store/inventory</a> HTTP/1.1</h3><details><summary>Headers</summary><table><thead><tr><th>Name</th><th>Value</th></tr></thead><tbody><tr><td>Accept</td><td>application/json</td></tr><tr><td>traceparent</td><td>00-0d77619103f4bb499387fc2143d1057e-b622f2b8ce120941-00</td></tr></tbody></table></details><details><summary>Body</summary><pre></pre></details></div><div><h2>Response</h2><hr></hr><h3>HTTP/1.1 200 OK</h3><details open=\"True\"><summary>Headers</summary><table><thead><tr><th>Name</th><th>Value</th></tr></thead><tbody><tr><td>Date</td><td>Sun, 27 Jun 2021 13:28:15 GMT</td></tr><tr><td>Transfer-Encoding</td><td>chunked</td></tr><tr><td>Connection</td><td>keep-alive</td></tr><tr><td>Access-Control-Allow-Origin</td><td>*</td></tr><tr><td>Access-Control-Allow-Methods</td><td>GET, POST, DELETE, PUT</td></tr><tr><td>Access-Control-Allow-Headers</td><td>Content-Type, api_key, Authorization</td></tr><tr><td>Server</td><td>Jetty(9.2.9.v20150224)</td></tr><tr><td>Content-Type</td><td>application/json</td></tr></tbody></table></details><details open=\"True\"><summary>Body</summary><details class=\"dni-treeview\"><summary><span class=\"dni-code-hint\"><code>{&quot;sold&quot;:6,&quot;44422&quot;:1,&quot;12&quot;:1,&quot;testando&quot;:1,&quot;string&quot;:168,&quot;alive&quot;:1,&quot;unavailable&quot;:2,&quot;pending&quot;:6,&quot;available&quot;:566,&quot;2&quot;:1,&quot;412&quot;:1,&quot;teste_v_w&quot;:1,&quot;ok&quot;:5,&quot;OK&quot;:4,&quot;free&quot;:1,&quot;pend&quot;:1}</code></span></summary><div><table><thead><tr></tr></thead><tbody><tr><td>sold</td><td><span><div class=\"dni-plaintext\">6</div></span></td></tr><tr><td>44422</td><td><span><div class=\"dni-plaintext\">1</div></span></td></tr><tr><td>12</td><td><span><div class=\"dni-plaintext\">1</div></span></td></tr><tr><td>testando</td><td><span><div class=\"dni-plaintext\">1</div></span></td></tr><tr><td>string</td><td><span><div class=\"dni-plaintext\">168</div></span></td></tr><tr><td>alive</td><td><span><div class=\"dni-plaintext\">1</div></span></td></tr><tr><td>unavailable</td><td><span><div class=\"dni-plaintext\">2</div></span></td></tr><tr><td>pending</td><td><span><div class=\"dni-plaintext\">6</div></span></td></tr><tr><td>available</td><td><span><div class=\"dni-plaintext\">566</div></span></td></tr><tr><td>2</td><td><span><div class=\"dni-plaintext\">1</div></span></td></tr><tr><td>412</td><td><span><div class=\"dni-plaintext\">1</div></span></td></tr><tr><td>teste_v_w</td><td><span><div class=\"dni-plaintext\">1</div></span></td></tr><tr><td>ok</td><td><span><div class=\"dni-plaintext\">5</div></span></td></tr><tr><td>OK</td><td><span><div class=\"dni-plaintext\">4</div></span></td></tr><tr><td>free</td><td><span><div class=\"dni-plaintext\">1</div></span></td></tr><tr><td>pend</td><td><span><div class=\"dni-plaintext\">1</div></span></td></tr></tbody></table></div></details></details></div></div><style id=\"dni-styles-JsonElement\">    \r\n",
       ".dni-code-hint {\r\n",
       "    font-style: italic;\r\n",
       "    overflow: hidden;\r\n",
       "    white-space: nowrap;\r\n",
       "}\r\n",
       "\r\n",
       ".dni-treeview {\r\n",
       "    white-space: nowrap;\r\n",
       "}\r\n",
       "\r\n",
       ".dni-treeview td {\r\n",
       "    vertical-align: top;\r\n",
       "}\r\n",
       "\r\n",
       "details.dni-treeview {\r\n",
       "    padding-left: 1em;\r\n",
       "}</style>"
      ]
     },
     "output_type": "unknown"
    },
    {
     "data": {
      "text/html": [
       "<table><thead><tr><th><i>key</i></th><th>value</th></tr></thead><tbody><tr><td>sold</td><td><div class=\"dni-plaintext\">6</div></td></tr><tr><td>44422</td><td><div class=\"dni-plaintext\">1</div></td></tr><tr><td>12</td><td><div class=\"dni-plaintext\">1</div></td></tr><tr><td>testando</td><td><div class=\"dni-plaintext\">1</div></td></tr><tr><td>string</td><td><div class=\"dni-plaintext\">168</div></td></tr><tr><td>alive</td><td><div class=\"dni-plaintext\">1</div></td></tr><tr><td>unavailable</td><td><div class=\"dni-plaintext\">2</div></td></tr><tr><td>pending</td><td><div class=\"dni-plaintext\">6</div></td></tr><tr><td>available</td><td><div class=\"dni-plaintext\">566</div></td></tr><tr><td>2</td><td><div class=\"dni-plaintext\">1</div></td></tr><tr><td>412</td><td><div class=\"dni-plaintext\">1</div></td></tr><tr><td>teste_v_w</td><td><div class=\"dni-plaintext\">1</div></td></tr><tr><td>ok</td><td><div class=\"dni-plaintext\">5</div></td></tr><tr><td>OK</td><td><div class=\"dni-plaintext\">4</div></td></tr><tr><td>free</td><td><div class=\"dni-plaintext\">1</div></td></tr><tr><td>pend</td><td><div class=\"dni-plaintext\">1</div></td></tr></tbody></table>"
      ]
     },
     "output_type": "unknown"
    }
   ],
   "source": [
    "var client = new OpenApiClient();\r\n",
    "var r = await client.StoreInventoryAsync();\r\n",
    "r\r\n"
   ]
  }
 ],
 "metadata": {
  "kernelspec": {
   "display_name": ".NET (C#)",
   "language": "C#",
   "name": ".net-csharp"
  },
  "language_info": {
   "name": "C#"
  }
 },
 "nbformat": 4,
 "nbformat_minor": 2
}